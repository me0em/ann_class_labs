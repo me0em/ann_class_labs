{
 "cells": [
  {
   "cell_type": "markdown",
   "id": "4f5dc9c3-b370-4315-b6c5-c32f598fe2f3",
   "metadata": {},
   "source": [
    "<center><h1>Марков Александр</h1><h3>Нейронные сети. Лаба 7 / Автоассоциативные сети с узким горлом</h3></center>"
   ]
  },
  {
   "cell_type": "code",
   "execution_count": 1,
   "id": "ba8b0308-d9ae-4707-a9b1-f93c1596f619",
   "metadata": {},
   "outputs": [],
   "source": [
    "import torch\n",
    "import torch.nn as nn\n",
    "import matplotlib.pyplot as plt"
   ]
  },
  {
   "cell_type": "code",
   "execution_count": 2,
   "id": "43be4907-a740-4bfe-ab5f-f71586331582",
   "metadata": {},
   "outputs": [],
   "source": [
    "class Net(nn.Module):\n",
    "    def __init__(self, in_size, hidden_layer_size):\n",
    "        super().__init__()\n",
    "        assert hidden_layer_size < in_size and hidden_layer_size > 0, \"invalid passed args\"\n",
    "\n",
    "        self.linear_1 = nn.Linear(in_features=in_size, out_features=hidden_layer_size)\n",
    "        self.linear_2 = nn.Linear(in_features=hidden_layer_size, out_features=in_size)\n",
    "    \n",
    "    def forward(self, x):\n",
    "        x = self.linear_1(x)\n",
    "        h = torch.relu(x)\n",
    "        x = self.linear_2(h)\n",
    "        \n",
    "        return x, h\n",
    "    \n",
    "    def predict(self, x):\n",
    "        with torch.no_grad():\n",
    "            x = self.linear_1(x)\n",
    "            h = torch.relu(x)\n",
    "            x = self.linear_2(h)\n",
    "\n",
    "            return x, h"
   ]
  },
  {
   "cell_type": "code",
   "execution_count": 3,
   "id": "ad52b056-19aa-4436-b8c9-e2bfc39bbe26",
   "metadata": {},
   "outputs": [],
   "source": [
    "model = Net(100, 5)\n",
    "\n",
    "loss = nn.MSELoss()\n",
    "optimizer = torch.optim.Adam(model.parameters(), lr=1e-3)"
   ]
  }
 ],
 "metadata": {
  "kernelspec": {
   "display_name": "Python 3",
   "language": "python",
   "name": "python3"
  },
  "language_info": {
   "codemirror_mode": {
    "name": "ipython",
    "version": 3
   },
   "file_extension": ".py",
   "mimetype": "text/x-python",
   "name": "python",
   "nbconvert_exporter": "python",
   "pygments_lexer": "ipython3",
   "version": "3.8.5"
  }
 },
 "nbformat": 4,
 "nbformat_minor": 5
}
