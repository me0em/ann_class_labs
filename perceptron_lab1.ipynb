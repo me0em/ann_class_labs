{
 "cells": [
  {
   "cell_type": "markdown",
   "metadata": {},
   "source": [
    "<center><h1><b>Марков Александр</b></h1><h3>Лаб. 1 🐕</h3></center>"
   ]
  },
  {
   "cell_type": "code",
   "execution_count": 1,
   "metadata": {},
   "outputs": [],
   "source": [
    "import numpy as np\n",
    "import matplotlib.pyplot as plt\n",
    "import seaborn as sns"
   ]
  },
  {
   "cell_type": "markdown",
   "metadata": {},
   "source": [
    "Дан набор данных"
   ]
  },
  {
   "cell_type": "code",
   "execution_count": 2,
   "metadata": {},
   "outputs": [],
   "source": [
    "data = (\n",
    "    np.array([\n",
    "        (1.1, -0.3),\n",
    "        (-1.5, 3.3),\n",
    "        (0.8, 0.4),\n",
    "        (4.1, -2.2),\n",
    "        (2.5, 2.5),\n",
    "        (-1.2, 0.6)\n",
    "    ]),\n",
    "    np.array([1, 0, 1, 1, 0, 1])\n",
    ")"
   ]
  },
  {
   "cell_type": "code",
   "execution_count": 3,
   "metadata": {},
   "outputs": [],
   "source": [
    "X, y = data"
   ]
  },
  {
   "cell_type": "markdown",
   "metadata": {},
   "source": [
    "Напишем функцию для обновления весов по модели Розенблата"
   ]
  },
  {
   "cell_type": "code",
   "execution_count": 4,
   "metadata": {},
   "outputs": [],
   "source": [
    "def update_weights(weights, bias, lr, y, y_hat, x_i):\n",
    "    weights += lr * (y - y_hat) * x_i\n",
    "    bias += lr * (y - y_hat)\n",
    "    \n",
    "    return weights, bias"
   ]
  },
  {
   "cell_type": "markdown",
   "metadata": {},
   "source": [
    "Напишем функцию для обучения модели"
   ]
  },
  {
   "cell_type": "code",
   "execution_count": 5,
   "metadata": {},
   "outputs": [],
   "source": [
    "def fitting(X, y, epoches=5, lr=0.8):\n",
    "\n",
    "    # проинициализируем веса\n",
    "    weights = np.random.rand(len(X[0]))\n",
    "    bias = np.random.rand()\n",
    "\n",
    "    # для красивого графика после каждой эпохи будем\n",
    "    # сохранять веса\n",
    "    history_weights = []\n",
    "\n",
    "    # само обучение\n",
    "    for epo in range(epoches):\n",
    "        for x_i, y_i in zip(X, y):\n",
    "            y_hat = np.dot(x_i, weights) + bias  # взвешенная сумма\n",
    "            y_hat = 1 if y_hat>=0 else 0  # функция Хевисайда как функция активации\n",
    "            weights, bias = update_weights(weights, bias, lr, y_i, y_hat, x_i)\n",
    "\n",
    "        history_weights.append([weights, bias])\n",
    "        print(f\"#{epo+1}:\\t weights: {weights},\\tbias: {bias}\")\n",
    "    \n",
    "    return history_weights"
   ]
  },
  {
   "cell_type": "code",
   "execution_count": 6,
   "metadata": {},
   "outputs": [
    {
     "name": "stdout",
     "output_type": "stream",
     "text": [
      "#1:\t weights: [ 1.16112257 -1.72839906],\tbias: 0.9504562567496236\n",
      "#2:\t weights: [ 0.20112257 -1.24839906],\tbias: 1.7504562567496236\n",
      "#3:\t weights: [ 0.20112257 -1.24839906],\tbias: 1.7504562567496236\n",
      "#4:\t weights: [ 0.20112257 -1.24839906],\tbias: 1.7504562567496236\n",
      "#5:\t weights: [ 0.20112257 -1.24839906],\tbias: 1.7504562567496236\n"
     ]
    }
   ],
   "source": [
    "history_weights = fitting(X, y)"
   ]
  },
  {
   "cell_type": "markdown",
   "metadata": {},
   "source": [
    "Построем график с разделением классов"
   ]
  },
  {
   "cell_type": "code",
   "execution_count": 7,
   "metadata": {},
   "outputs": [
    {
     "data": {
      "text/plain": [
       "[]"
      ]
     },
     "execution_count": 7,
     "metadata": {},
     "output_type": "execute_result"
    },
    {
     "data": {
      "image/png": "[encoded data removed]",
      "text/plain": [
       "<Figure size 864x360 with 1 Axes>"
      ]
     },
     "metadata": {
      "needs_background": "light"
     },
     "output_type": "display_data"
    }
   ],
   "source": [
    "domain = np.linspace(min(X[:, 0])-1, max(X[:, 0])+5, 1000)\n",
    "\n",
    "params = {'axes.labelsize': 16, 'axes.titlesize': 16}\n",
    "plt.rcParams.update(params)\n",
    "\n",
    "fig, ax = plt.subplots(figsize=(12, 5))\n",
    "ax.set(xlabel=\"$x_1$\", ylabel=\"$x_2$\", title=\"Разделение данных с помощью перцептрона\")\n",
    "\n",
    "sns.scatterplot(x=X[:, 0], y=X[:, 1], s=80,\n",
    "                c=[{1:\"#62c598\", 0:\"#62a2c5\"}[i] for i in y])\n",
    "\n",
    "palette = sns.color_palette(\"magma\", len(history_weights))\n",
    "\n",
    "for epoch, item in enumerate(history_weights):\n",
    "    w, bias = item\n",
    "    x2 = -bias/w[1] - domain*w[0]/w[1]\n",
    "    sns.lineplot(x=domain, y=x2, label=f\"epoch #{epoch+1}\", linewidth=3, color=palette[epoch])\n",
    "        \n",
    "plt.legend()\n",
    "plt.plot()"
   ]
  },
  {
   "cell_type": "markdown",
   "metadata": {},
   "source": [
    "Теперь зададим случайным образом три точки и классифицируем их"
   ]
  },
  {
   "cell_type": "code",
   "execution_count": 13,
   "metadata": {},
   "outputs": [
    {
     "data": {
      "text/plain": [
       "array([[0.28008059, 0.9610029 ],\n",
       "       [3.51692819, 0.58153335],\n",
       "       [1.70356471, 4.98723874]])"
      ]
     },
     "execution_count": 13,
     "metadata": {},
     "output_type": "execute_result"
    }
   ],
   "source": [
    "rand_points = np.random.rand(3, 2) * 5\n",
    "rand_points"
   ]
  },
  {
   "cell_type": "code",
   "execution_count": 14,
   "metadata": {},
   "outputs": [
    {
     "data": {
      "text/plain": [
       "array([1., 1., 0.])"
      ]
     },
     "execution_count": 14,
     "metadata": {},
     "output_type": "execute_result"
    }
   ],
   "source": [
    "weights, bias = history_weights[-1]\n",
    "\n",
    "result = rand_points @ weights + bias\n",
    "result[result < 0] = 0\n",
    "result[result > 0] = 1\n",
    "\n",
    "result"
   ]
  },
  {
   "cell_type": "markdown",
   "metadata": {},
   "source": [
    "Видим, что две точки из сгенерированных классифицированы моделью как принадлежащие к классу `1`, а одна точка как принадлежащая к классу `0`. Проверим это визуально"
   ]
  },
  {
   "cell_type": "markdown",
   "metadata": {},
   "source": [
    "> разумеется, если запустить этот код еще раз, то результат может быть другим"
   ]
  },
  {
   "cell_type": "code",
   "execution_count": 15,
   "metadata": {},
   "outputs": [
    {
     "data": {
      "text/plain": [
       "[]"
      ]
     },
     "execution_count": 15,
     "metadata": {},
     "output_type": "execute_result"
    },
    {
     "data": {
      "image/png": "[encoded data removed]",
      "text/plain": [
       "<Figure size 432x216 with 1 Axes>"
      ]
     },
     "metadata": {
      "needs_background": "light"
     },
     "output_type": "display_data"
    }
   ],
   "source": [
    "domain = np.linspace(min(X[:, 0])-1, max(X[:, 0])+5, 1000)\n",
    "\n",
    "params = {'axes.labelsize': 14, 'axes.titlesize': 14}\n",
    "plt.rcParams.update(params)\n",
    "fig, ax = plt.subplots(figsize=(6, 3))\n",
    "ax.set(xlabel=\"$x_1$\", ylabel=\"$x_2$\", title=\"Проверка работы перцептрона\")\n",
    "palette = sns.color_palette(\"magma\", len(history_weights))\n",
    "\n",
    "w, bias = history_weights[-1]\n",
    "x2 = -bias/w[1] - domain*w[0]/w[1]\n",
    "sns.lineplot(x=domain, y=x2, label=f\"Линия разделения\", linewidth=3, color=palette[-1])\n",
    "\n",
    "sns.scatterplot(x=rand_points[:, 0], y=rand_points[:, 1], c=[{1:\"#62c598\", 0:\"#62a2c5\"}[i] for i in result])\n",
    "        \n",
    "plt.legend()\n",
    "plt.plot()"
   ]
  }
 ],
 "metadata": {
  "kernelspec": {
   "display_name": "Python 3",
   "language": "python",
   "name": "python3"
  },
  "language_info": {
   "codemirror_mode": {
    "name": "ipython",
    "version": 3
   },
   "file_extension": ".py",
   "mimetype": "text/x-python",
   "name": "python",
   "nbconvert_exporter": "python",
   "pygments_lexer": "ipython3",
   "version": "3.8.5"
  }
 },
 "nbformat": 4,
 "nbformat_minor": 4
}
